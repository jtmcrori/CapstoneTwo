{
 "cells": [
  {
   "cell_type": "markdown",
   "metadata": {},
   "source": [
    "# Data Wrangling"
   ]
  },
  {
   "cell_type": "markdown",
   "metadata": {},
   "source": [
    "### 0.0 Data Collection"
   ]
  },
  {
   "cell_type": "code",
   "execution_count": 8,
   "metadata": {},
   "outputs": [],
   "source": [
    "# Import libraries\n",
    "import glob\n",
    "import os\n",
    "\n",
    "import pandas as pd"
   ]
  },
  {
   "cell_type": "code",
   "execution_count": 41,
   "metadata": {},
   "outputs": [],
   "source": [
    "# Collect paths\n",
    "book_train_path = './Data/book_train.parquet'\n",
    "book_test_path = './Data/book_test.parquet/'\n",
    "trade_train_path = './Data/trade_train.parquet/'\n",
    "trade_test_path = './Data/trade_test.parquet/'"
   ]
  },
  {
   "cell_type": "code",
   "execution_count": 42,
   "metadata": {},
   "outputs": [],
   "source": [
    "# Read in data\n",
    "book_train = pd.read_parquet(book_train_path)\n",
    "book_test = pd.read_parquet(book_test_path)\n",
    "trade_train = pd.read_parquet(trade_train_path)\n",
    "trade_test = pd.read_parquet(book_train_path)"
   ]
  },
  {
   "cell_type": "code",
   "execution_count": 43,
   "metadata": {},
   "outputs": [
    {
     "name": "stdout",
     "output_type": "stream",
     "text": [
      "<class 'pandas.core.frame.DataFrame'>\n",
      "RangeIndex: 167253289 entries, 0 to 167253288\n",
      "Data columns (total 11 columns):\n",
      " #   Column             Dtype   \n",
      "---  ------             -----   \n",
      " 0   time_id            int16   \n",
      " 1   seconds_in_bucket  int16   \n",
      " 2   bid_price1         float32 \n",
      " 3   ask_price1         float32 \n",
      " 4   bid_price2         float32 \n",
      " 5   ask_price2         float32 \n",
      " 6   bid_size1          int32   \n",
      " 7   ask_size1          int32   \n",
      " 8   bid_size2          int32   \n",
      " 9   ask_size2          int32   \n",
      " 10  stock_id           category\n",
      "dtypes: category(1), float32(4), int16(2), int32(4)\n",
      "memory usage: 5.8 GB\n"
     ]
    }
   ],
   "source": [
    "trade_test.info()"
   ]
  },
  {
   "cell_type": "code",
   "execution_count": 44,
   "metadata": {},
   "outputs": [
    {
     "name": "stdout",
     "output_type": "stream",
     "text": [
      "<class 'pandas.core.frame.DataFrame'>\n",
      "RangeIndex: 11395007 entries, 0 to 11395006\n",
      "Data columns (total 6 columns):\n",
      " #   Column             Dtype   \n",
      "---  ------             -----   \n",
      " 0   time_id            int16   \n",
      " 1   seconds_in_bucket  int16   \n",
      " 2   price              float32 \n",
      " 3   size               int32   \n",
      " 4   order_count        int16   \n",
      " 5   stock_id           category\n",
      "dtypes: category(1), float32(1), int16(3), int32(1)\n",
      "memory usage: 163.0 MB\n"
     ]
    }
   ],
   "source": [
    "trade_train.info()"
   ]
  },
  {
   "cell_type": "code",
   "execution_count": 45,
   "metadata": {},
   "outputs": [
    {
     "name": "stdout",
     "output_type": "stream",
     "text": [
      "<class 'pandas.core.frame.DataFrame'>\n",
      "RangeIndex: 3 entries, 0 to 2\n",
      "Data columns (total 11 columns):\n",
      " #   Column             Non-Null Count  Dtype   \n",
      "---  ------             --------------  -----   \n",
      " 0   time_id            3 non-null      int16   \n",
      " 1   seconds_in_bucket  3 non-null      int16   \n",
      " 2   bid_price1         3 non-null      float32 \n",
      " 3   ask_price1         3 non-null      float32 \n",
      " 4   bid_price2         3 non-null      float32 \n",
      " 5   ask_price2         3 non-null      float32 \n",
      " 6   bid_size1          3 non-null      int32   \n",
      " 7   ask_size1          3 non-null      int32   \n",
      " 8   bid_size2          3 non-null      int32   \n",
      " 9   ask_size2          3 non-null      int32   \n",
      " 10  stock_id           3 non-null      category\n",
      "dtypes: category(1), float32(4), int16(2), int32(4)\n",
      "memory usage: 355.0 bytes\n"
     ]
    }
   ],
   "source": [
    "book_test.info()"
   ]
  },
  {
   "cell_type": "code",
   "execution_count": 46,
   "metadata": {},
   "outputs": [
    {
     "name": "stdout",
     "output_type": "stream",
     "text": [
      "<class 'pandas.core.frame.DataFrame'>\n",
      "RangeIndex: 167253289 entries, 0 to 167253288\n",
      "Data columns (total 11 columns):\n",
      " #   Column             Dtype   \n",
      "---  ------             -----   \n",
      " 0   time_id            int16   \n",
      " 1   seconds_in_bucket  int16   \n",
      " 2   bid_price1         float32 \n",
      " 3   ask_price1         float32 \n",
      " 4   bid_price2         float32 \n",
      " 5   ask_price2         float32 \n",
      " 6   bid_size1          int32   \n",
      " 7   ask_size1          int32   \n",
      " 8   bid_size2          int32   \n",
      " 9   ask_size2          int32   \n",
      " 10  stock_id           category\n",
      "dtypes: category(1), float32(4), int16(2), int32(4)\n",
      "memory usage: 5.8 GB\n"
     ]
    }
   ],
   "source": [
    "# Note that by convention at Kaggle the book_test file only has 3 entries.\n",
    "book_train.info()"
   ]
  },
  {
   "cell_type": "markdown",
   "metadata": {},
   "source": []
  },
  {
   "cell_type": "code",
   "execution_count": null,
   "metadata": {},
   "outputs": [],
   "source": []
  }
 ],
 "metadata": {
  "kernelspec": {
   "display_name": "Python 3.10.9 ('base')",
   "language": "python",
   "name": "python3"
  },
  "language_info": {
   "codemirror_mode": {
    "name": "ipython",
    "version": 3
   },
   "file_extension": ".py",
   "mimetype": "text/x-python",
   "name": "python",
   "nbconvert_exporter": "python",
   "pygments_lexer": "ipython3",
   "version": "3.10.9"
  },
  "orig_nbformat": 4,
  "vscode": {
   "interpreter": {
    "hash": "6497d58af491109d7612fe9d1028960de884c05e1ebf1bdd29b0c9653168678f"
   }
  }
 },
 "nbformat": 4,
 "nbformat_minor": 2
}
