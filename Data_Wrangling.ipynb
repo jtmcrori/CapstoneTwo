{
 "cells": [
  {
   "cell_type": "markdown",
   "metadata": {},
   "source": [
    "# Data Wrangling"
   ]
  },
  {
   "cell_type": "markdown",
   "metadata": {},
   "source": [
    "### 0.0 Data Collection\n",
    "    Goal: Organize data to streamline the next steps of your project.\n",
    "        -Data loading  \n",
    "        -Data joining"
   ]
  },
  {
   "cell_type": "code",
   "execution_count": 1,
   "metadata": {},
   "outputs": [],
   "source": [
    "# Import libraries\n",
    "#\n",
    "# General\n",
    "#\n",
    "import datetime as dt\n",
    "import glob\n",
    "import os\n",
    "\n",
    "#\n",
    "# Visualization\n",
    "#\n",
    "import matplotlib.pyplot as plt\n",
    "import numpy as np\n",
    "#\n",
    "# Math and computation\n",
    "#\n",
    "import pandas as pd\n",
    "import seaborn as sns\n",
    "\n",
    "#\n",
    "# Modeling\n",
    "#"
   ]
  },
  {
   "cell_type": "markdown",
   "metadata": {},
   "source": [
    "#### 0.1 Data Loading\n",
    "    In this competition data are found in the jpx-tokyo-stock-exchange-prediction folder. This data is separated into training, supplemental, data \n",
    "    specification, and example test files. "
   ]
  },
  {
   "cell_type": "code",
   "execution_count": 2,
   "metadata": {},
   "outputs": [],
   "source": [
    "# Here we define the paths used to retrieve the data\n",
    "\n",
    "# Directory path (laptop)\n",
    "dir_path = '/Users/t/Desktop/Notebook/SpringBoard/CapstoneTwo/jpx-tokyo-stock-exchange-prediction.nosync'\n",
    "\n",
    "# Let's read in the data separately first to evaluate it\n",
    "stock_prices_path = dir_path + '/train_files/stock_prices.csv'\n",
    "trades_path = dir_path + '/train_files/trades.csv'\n",
    "options_path = dir_path + '/train_files/options.csv'"
   ]
  },
  {
   "cell_type": "code",
   "execution_count": 4,
   "metadata": {},
   "outputs": [
    {
     "name": "stderr",
     "output_type": "stream",
     "text": [
      "/var/folders/49/57p15qz10bdb3cdxt3mldxgw0000gn/T/ipykernel_1882/1582623417.py:4: DtypeWarning: Columns (7,8,9,10) have mixed types. Specify dtype option on import or set low_memory=False.\n",
      "  options_data = pd.read_csv(options_path)\n"
     ]
    }
   ],
   "source": [
    "# Read the stock prices into a Dataframe.\n",
    "stock_data = pd.read_csv(stock_prices_path)\n",
    "trades_data = pd.read_csv(trades_path)\n",
    "options_data = pd.read_csv(options_path)"
   ]
  },
  {
   "cell_type": "code",
   "execution_count": 5,
   "metadata": {},
   "outputs": [
    {
     "data": {
      "text/html": [
       "<div>\n",
       "<style scoped>\n",
       "    .dataframe tbody tr th:only-of-type {\n",
       "        vertical-align: middle;\n",
       "    }\n",
       "\n",
       "    .dataframe tbody tr th {\n",
       "        vertical-align: top;\n",
       "    }\n",
       "\n",
       "    .dataframe thead th {\n",
       "        text-align: right;\n",
       "    }\n",
       "</style>\n",
       "<table border=\"1\" class=\"dataframe\">\n",
       "  <thead>\n",
       "    <tr style=\"text-align: right;\">\n",
       "      <th></th>\n",
       "      <th>RowId</th>\n",
       "      <th>Date</th>\n",
       "      <th>SecuritiesCode</th>\n",
       "      <th>Open</th>\n",
       "      <th>High</th>\n",
       "      <th>Low</th>\n",
       "      <th>Close</th>\n",
       "      <th>Volume</th>\n",
       "      <th>AdjustmentFactor</th>\n",
       "      <th>ExpectedDividend</th>\n",
       "      <th>SupervisionFlag</th>\n",
       "      <th>Target</th>\n",
       "    </tr>\n",
       "  </thead>\n",
       "  <tbody>\n",
       "    <tr>\n",
       "      <th>0</th>\n",
       "      <td>20170104_1301</td>\n",
       "      <td>2017-01-04</td>\n",
       "      <td>1301</td>\n",
       "      <td>2734.0</td>\n",
       "      <td>2755.0</td>\n",
       "      <td>2730.0</td>\n",
       "      <td>2742.0</td>\n",
       "      <td>31400</td>\n",
       "      <td>1.0</td>\n",
       "      <td>NaN</td>\n",
       "      <td>False</td>\n",
       "      <td>0.000730</td>\n",
       "    </tr>\n",
       "    <tr>\n",
       "      <th>1</th>\n",
       "      <td>20170104_1332</td>\n",
       "      <td>2017-01-04</td>\n",
       "      <td>1332</td>\n",
       "      <td>568.0</td>\n",
       "      <td>576.0</td>\n",
       "      <td>563.0</td>\n",
       "      <td>571.0</td>\n",
       "      <td>2798500</td>\n",
       "      <td>1.0</td>\n",
       "      <td>NaN</td>\n",
       "      <td>False</td>\n",
       "      <td>0.012324</td>\n",
       "    </tr>\n",
       "    <tr>\n",
       "      <th>2</th>\n",
       "      <td>20170104_1333</td>\n",
       "      <td>2017-01-04</td>\n",
       "      <td>1333</td>\n",
       "      <td>3150.0</td>\n",
       "      <td>3210.0</td>\n",
       "      <td>3140.0</td>\n",
       "      <td>3210.0</td>\n",
       "      <td>270800</td>\n",
       "      <td>1.0</td>\n",
       "      <td>NaN</td>\n",
       "      <td>False</td>\n",
       "      <td>0.006154</td>\n",
       "    </tr>\n",
       "    <tr>\n",
       "      <th>3</th>\n",
       "      <td>20170104_1376</td>\n",
       "      <td>2017-01-04</td>\n",
       "      <td>1376</td>\n",
       "      <td>1510.0</td>\n",
       "      <td>1550.0</td>\n",
       "      <td>1510.0</td>\n",
       "      <td>1550.0</td>\n",
       "      <td>11300</td>\n",
       "      <td>1.0</td>\n",
       "      <td>NaN</td>\n",
       "      <td>False</td>\n",
       "      <td>0.011053</td>\n",
       "    </tr>\n",
       "    <tr>\n",
       "      <th>4</th>\n",
       "      <td>20170104_1377</td>\n",
       "      <td>2017-01-04</td>\n",
       "      <td>1377</td>\n",
       "      <td>3270.0</td>\n",
       "      <td>3350.0</td>\n",
       "      <td>3270.0</td>\n",
       "      <td>3330.0</td>\n",
       "      <td>150800</td>\n",
       "      <td>1.0</td>\n",
       "      <td>NaN</td>\n",
       "      <td>False</td>\n",
       "      <td>0.003026</td>\n",
       "    </tr>\n",
       "  </tbody>\n",
       "</table>\n",
       "</div>"
      ],
      "text/plain": [
       "           RowId        Date  SecuritiesCode    Open    High     Low   Close  \\\n",
       "0  20170104_1301  2017-01-04            1301  2734.0  2755.0  2730.0  2742.0   \n",
       "1  20170104_1332  2017-01-04            1332   568.0   576.0   563.0   571.0   \n",
       "2  20170104_1333  2017-01-04            1333  3150.0  3210.0  3140.0  3210.0   \n",
       "3  20170104_1376  2017-01-04            1376  1510.0  1550.0  1510.0  1550.0   \n",
       "4  20170104_1377  2017-01-04            1377  3270.0  3350.0  3270.0  3330.0   \n",
       "\n",
       "    Volume  AdjustmentFactor  ExpectedDividend  SupervisionFlag    Target  \n",
       "0    31400               1.0               NaN            False  0.000730  \n",
       "1  2798500               1.0               NaN            False  0.012324  \n",
       "2   270800               1.0               NaN            False  0.006154  \n",
       "3    11300               1.0               NaN            False  0.011053  \n",
       "4   150800               1.0               NaN            False  0.003026  "
      ]
     },
     "execution_count": 5,
     "metadata": {},
     "output_type": "execute_result"
    }
   ],
   "source": [
    "# Inspect the Dataframe\n",
    "stock_data.head()"
   ]
  },
  {
   "cell_type": "markdown",
   "metadata": {},
   "source": [
    "#### Data Definitions \n",
    "    Goal: gain an understanding of the data features to inform the next step of the project.\n",
    "    - Column names \n",
    "    - Data types \n",
    "    - Description of the columns \n",
    "    - Counts and percents unique values "
   ]
  },
  {
   "cell_type": "code",
   "execution_count": 6,
   "metadata": {},
   "outputs": [
    {
     "name": "stdout",
     "output_type": "stream",
     "text": [
      "Index(['RowId', 'Date', 'SecuritiesCode', 'Open', 'High', 'Low', 'Close',\n",
      "       'Volume', 'AdjustmentFactor', 'ExpectedDividend', 'SupervisionFlag',\n",
      "       'Target'],\n",
      "      dtype='object')\n"
     ]
    }
   ],
   "source": [
    "# Get the column names\n",
    "stock_col_names = stock_data.columns\n",
    "print(stock_col_names)"
   ]
  },
  {
   "cell_type": "code",
   "execution_count": 7,
   "metadata": {},
   "outputs": [
    {
     "name": "stdout",
     "output_type": "stream",
     "text": [
      "<class 'pandas.core.frame.DataFrame'>\n",
      "RangeIndex: 2332531 entries, 0 to 2332530\n",
      "Data columns (total 12 columns):\n",
      " #   Column            Dtype  \n",
      "---  ------            -----  \n",
      " 0   RowId             object \n",
      " 1   Date              object \n",
      " 2   SecuritiesCode    int64  \n",
      " 3   Open              float64\n",
      " 4   High              float64\n",
      " 5   Low               float64\n",
      " 6   Close             float64\n",
      " 7   Volume            int64  \n",
      " 8   AdjustmentFactor  float64\n",
      " 9   ExpectedDividend  float64\n",
      " 10  SupervisionFlag   bool   \n",
      " 11  Target            float64\n",
      "dtypes: bool(1), float64(7), int64(2), object(2)\n",
      "memory usage: 198.0+ MB\n"
     ]
    }
   ],
   "source": [
    "# Inspect the data types\n",
    "stock_data.info()"
   ]
  },
  {
   "cell_type": "code",
   "execution_count": 16,
   "metadata": {},
   "outputs": [],
   "source": [
    "# Description of the columns \n",
    "\n",
    "    # RowId appears to represent the date the data was collected and the ID code for the security\n",
    "    # Date is of type object. We will change this to a datetime object\n",
    "    # SecuritiesCode is an int that represents a stock that can be found in the stock_list file\n",
    "    # Open - High - Low - Close represent the price of the security at those respective points\n",
    "    # Volume is total amount of securities exchanged during this trading day.\n",
    "    # Adjustment factor - Used if the stock is going to split/reverse split. \n",
    "    # ExpectedDividend - The value of the dividend if there is one. \n",
    "    # SupervisionFlag - a boolean value for whether or not the stock will be dropped"
   ]
  },
  {
   "cell_type": "code",
   "execution_count": 8,
   "metadata": {},
   "outputs": [
    {
     "name": "stdout",
     "output_type": "stream",
     "text": [
      "RowId                     0\n",
      "Date                      0\n",
      "SecuritiesCode            0\n",
      "Open                   7608\n",
      "High                   7608\n",
      "Low                    7608\n",
      "Close                  7608\n",
      "Volume                    0\n",
      "AdjustmentFactor          0\n",
      "ExpectedDividend    2313666\n",
      "SupervisionFlag           0\n",
      "Target                  238\n",
      "dtype: int64\n"
     ]
    }
   ],
   "source": [
    "# Let's check for null values \n",
    "print(stock_data.isnull().sum())"
   ]
  },
  {
   "cell_type": "code",
   "execution_count": 9,
   "metadata": {},
   "outputs": [],
   "source": [
    "# Based on the null values, we can see that the expected dividend column is mostly null. Whether or not the stock recieves a dividend can be\n",
    "# helpful in some trading strategies, but when we are looking at market as a whole, with this many null values, it makes sense to drop the column\n",
    "# entirely. In addition, we can drop RowId since it is merely the Date and the securities code. \n",
    "\n",
    "stock_data = stock_data.drop(columns=['RowId','ExpectedDividend'])"
   ]
  },
  {
   "cell_type": "code",
   "execution_count": 12,
   "metadata": {},
   "outputs": [
    {
     "data": {
      "text/plain": [
       "array([ 1.        ,  0.5       ,  5.        ,  0.33333333,  0.83333333,\n",
       "        0.25      ,  0.90909091,  0.1       , 10.        ,  0.2       ,\n",
       "        0.95238095,  2.        ,  0.14285714,  0.66666667,  0.86956522,\n",
       "        0.76923077,  0.8       ,  4.        , 20.        ])"
      ]
     },
     "execution_count": 12,
     "metadata": {},
     "output_type": "execute_result"
    }
   ],
   "source": [
    "# Let's check out the uniqueness of AdjustmentFactor and SupervisionFlag columns. I suspect that neither of these are a major driver of the market\n",
    "# as a whole. Depending on the weight of a particular stock on the market, it the supervision flag might be relevant, but in practice, businesses \n",
    "# are generally performing poorly for a long time before they receive such a flag. \n",
    "\n",
    "stock_data['AdjustmentFactor'].unique()\n",
    "\n",
    "# The adjustment factor is likely unhelpful for us here, so, we can drop the column."
   ]
  },
  {
   "cell_type": "code",
   "execution_count": 14,
   "metadata": {},
   "outputs": [
    {
     "data": {
      "text/plain": [
       "False    2332001\n",
       "True         530\n",
       "Name: SupervisionFlag, dtype: int64"
      ]
     },
     "execution_count": 14,
     "metadata": {},
     "output_type": "execute_result"
    }
   ],
   "source": [
    "stock_data['SupervisionFlag'].value_counts()\n",
    "# Here we can see a large majority of the market does not have a supervision flag. We can drop this column as well."
   ]
  },
  {
   "cell_type": "code",
   "execution_count": 15,
   "metadata": {},
   "outputs": [],
   "source": [
    "stock_data = stock_data.drop(columns=['SupervisionFlag', 'AdjustmentFactor'])"
   ]
  },
  {
   "cell_type": "code",
   "execution_count": 16,
   "metadata": {},
   "outputs": [
    {
     "data": {
      "text/html": [
       "<div>\n",
       "<style scoped>\n",
       "    .dataframe tbody tr th:only-of-type {\n",
       "        vertical-align: middle;\n",
       "    }\n",
       "\n",
       "    .dataframe tbody tr th {\n",
       "        vertical-align: top;\n",
       "    }\n",
       "\n",
       "    .dataframe thead th {\n",
       "        text-align: right;\n",
       "    }\n",
       "</style>\n",
       "<table border=\"1\" class=\"dataframe\">\n",
       "  <thead>\n",
       "    <tr style=\"text-align: right;\">\n",
       "      <th></th>\n",
       "      <th>Date</th>\n",
       "      <th>SecuritiesCode</th>\n",
       "      <th>Open</th>\n",
       "      <th>High</th>\n",
       "      <th>Low</th>\n",
       "      <th>Close</th>\n",
       "      <th>Volume</th>\n",
       "      <th>Target</th>\n",
       "    </tr>\n",
       "  </thead>\n",
       "  <tbody>\n",
       "    <tr>\n",
       "      <th>0</th>\n",
       "      <td>2017-01-04</td>\n",
       "      <td>1301</td>\n",
       "      <td>2734.0</td>\n",
       "      <td>2755.0</td>\n",
       "      <td>2730.0</td>\n",
       "      <td>2742.0</td>\n",
       "      <td>31400</td>\n",
       "      <td>0.000730</td>\n",
       "    </tr>\n",
       "    <tr>\n",
       "      <th>1</th>\n",
       "      <td>2017-01-04</td>\n",
       "      <td>1332</td>\n",
       "      <td>568.0</td>\n",
       "      <td>576.0</td>\n",
       "      <td>563.0</td>\n",
       "      <td>571.0</td>\n",
       "      <td>2798500</td>\n",
       "      <td>0.012324</td>\n",
       "    </tr>\n",
       "    <tr>\n",
       "      <th>2</th>\n",
       "      <td>2017-01-04</td>\n",
       "      <td>1333</td>\n",
       "      <td>3150.0</td>\n",
       "      <td>3210.0</td>\n",
       "      <td>3140.0</td>\n",
       "      <td>3210.0</td>\n",
       "      <td>270800</td>\n",
       "      <td>0.006154</td>\n",
       "    </tr>\n",
       "    <tr>\n",
       "      <th>3</th>\n",
       "      <td>2017-01-04</td>\n",
       "      <td>1376</td>\n",
       "      <td>1510.0</td>\n",
       "      <td>1550.0</td>\n",
       "      <td>1510.0</td>\n",
       "      <td>1550.0</td>\n",
       "      <td>11300</td>\n",
       "      <td>0.011053</td>\n",
       "    </tr>\n",
       "    <tr>\n",
       "      <th>4</th>\n",
       "      <td>2017-01-04</td>\n",
       "      <td>1377</td>\n",
       "      <td>3270.0</td>\n",
       "      <td>3350.0</td>\n",
       "      <td>3270.0</td>\n",
       "      <td>3330.0</td>\n",
       "      <td>150800</td>\n",
       "      <td>0.003026</td>\n",
       "    </tr>\n",
       "  </tbody>\n",
       "</table>\n",
       "</div>"
      ],
      "text/plain": [
       "         Date  SecuritiesCode    Open    High     Low   Close   Volume  \\\n",
       "0  2017-01-04            1301  2734.0  2755.0  2730.0  2742.0    31400   \n",
       "1  2017-01-04            1332   568.0   576.0   563.0   571.0  2798500   \n",
       "2  2017-01-04            1333  3150.0  3210.0  3140.0  3210.0   270800   \n",
       "3  2017-01-04            1376  1510.0  1550.0  1510.0  1550.0    11300   \n",
       "4  2017-01-04            1377  3270.0  3350.0  3270.0  3330.0   150800   \n",
       "\n",
       "     Target  \n",
       "0  0.000730  \n",
       "1  0.012324  \n",
       "2  0.006154  \n",
       "3  0.011053  \n",
       "4  0.003026  "
      ]
     },
     "execution_count": 16,
     "metadata": {},
     "output_type": "execute_result"
    }
   ],
   "source": [
    "stock_data.head()"
   ]
  }
 ],
 "metadata": {
  "kernelspec": {
   "display_name": "Python 3.10.9 ('base')",
   "language": "python",
   "name": "python3"
  },
  "language_info": {
   "codemirror_mode": {
    "name": "ipython",
    "version": 3
   },
   "file_extension": ".py",
   "mimetype": "text/x-python",
   "name": "python",
   "nbconvert_exporter": "python",
   "pygments_lexer": "ipython3",
   "version": "3.10.9"
  },
  "orig_nbformat": 4,
  "vscode": {
   "interpreter": {
    "hash": "6497d58af491109d7612fe9d1028960de884c05e1ebf1bdd29b0c9653168678f"
   }
  }
 },
 "nbformat": 4,
 "nbformat_minor": 2
}
